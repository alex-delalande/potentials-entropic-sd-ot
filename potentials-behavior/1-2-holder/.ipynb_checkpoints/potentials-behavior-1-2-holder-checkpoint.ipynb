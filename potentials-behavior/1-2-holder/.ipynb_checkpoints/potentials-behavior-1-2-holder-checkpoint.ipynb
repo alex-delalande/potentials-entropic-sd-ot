{
 "cells": [
  {
   "cell_type": "markdown",
   "metadata": {},
   "source": [
    "# Behavior of $\\epsilon \\mapsto \\psi^\\epsilon$"
   ]
  },
  {
   "cell_type": "code",
   "execution_count": 1,
   "metadata": {},
   "outputs": [],
   "source": [
    "import matplotlib.pylab as pl\n",
    "import matplotlib.pyplot as plt\n",
    "from tqdm.notebook import tqdm\n",
    "import numpy as np\n",
    "from scipy.integrate import quad\n",
    "from scipy.optimize import minimize"
   ]
  },
  {
   "cell_type": "markdown",
   "metadata": {},
   "source": [
    "# Resolution of unregularized OT\n",
    "\n",
    "Let $\\rho$ be a probability density on $[m, M]$ and $\\mu$ a discrete probability measure with support of size $N$.\n",
    "\n",
    "We solve the following optimization problem:\n",
    "\n",
    "$$ (1) \\qquad \\min_{\\psi \\in \\mathbb{R}^N} F(\\psi), $$\n",
    "where $$F(\\psi) = \\int_m^M \\psi^*(x) \\rho(x)dx + \\langle \\psi, \\mu \\rangle.$$\n",
    "The function $F^\\epsilon$ is convex on $\\mathbb{R}^N$ and stricly convex on $(\\mathbb{1}_N)^\\perp$. Its gradient reads:\n",
    "$$ \\frac{ \\partial F}{\\partial \\psi_i} (\\psi) = \\mu_i - \\int_{Lag_i(\\psi)} \\rho(x) dx.$$\n",
    "\n",
    "Both the cost function $F$ and the gradient $\\nabla F = (\\frac{ \\partial F}{\\partial \\psi_i})_{i=1, \\dots, N}$ are computed using ```scipy.integrate.quad```.\n",
    "\n",
    "We solve $(1)$ using ```scipy.optimize.minimize``` with the BFGS method."
   ]
  },
  {
   "cell_type": "code",
   "execution_count": 2,
   "metadata": {},
   "outputs": [],
   "source": [
    "def h(x, j, psi, rho, b, Y_target):\n",
    "    if j==np.argmax(x*Y_target - psi): pi=1\n",
    "    else: pi=0\n",
    "    return (b[j] - pi)*rho(x)\n",
    "\n",
    "def f(x, psi, rho, b, Y_target):\n",
    "    return np.max(x*Y_target - psi)*rho(x)\n",
    "\n",
    "def get_cost_unreg(psi, rho, m, M, b, Y_target):\n",
    "    A = quad(f, m, M, args=(psi, rho, b, Y_target), limit=100)[0]\n",
    "    B = np.sum(b*psi)\n",
    "    return A + B\n",
    "\n",
    "def gradient_unreg(psi, rho, m, M, b, Y_target):\n",
    "    grad = np.zeros(len(Y_target))\n",
    "    for j in range(len(Y_target)):\n",
    "        grad[j] = quad(h, m, M, args=(j, psi, rho, b, Y_target), limit=100)[0]\n",
    "    return grad\n",
    "\n",
    "def solve_ot_unreg(psi_init, rho, m, M, b, Y_target, disp=False):\n",
    "    res = minimize(get_cost_unreg, psi_init, args=(rho, m, M, b, Y_target), method='L-BFGS-B',\\\n",
    "                   jac=gradient_unreg, tol=None, options={'ftol': 1e-12, 'gtol': 1e-12})\n",
    "\n",
    "    if disp:\n",
    "        print(\"Final gradient:\", gradient_unreg(res['x'], rho, m, M, b, Y_target))\n",
    "        print(\"Cost:\", get_cost_unreg(res['x'], rho, m, M, b, Y_target))\n",
    "        \n",
    "    return res['x'] - (1/len(b))*np.sum(res['x'])"
   ]
  },
  {
   "cell_type": "markdown",
   "metadata": {},
   "source": [
    "# Resolution of regularized OT\n",
    "\n",
    "Here we solve the following optimization problem:\n",
    "\n",
    "$$ (2) \\qquad \\min_{\\psi \\in \\mathbb{R}^N} F^\\epsilon(\\psi), $$\n",
    "where $$F^\\epsilon(\\psi) = \\int_{-M}^M \\epsilon \\log \\left( \\sum_{i=1}^N e^{\\frac{xy_i - \\psi_i}{\\epsilon}} \\right) \\rho(x)dx + \\langle \\psi, \\mu \\rangle + \\epsilon = \\int_{-M}^M  f^\\epsilon(x, \\psi) dx + \\langle \\psi, \\mu \\rangle + \\epsilon.$$\n",
    "The function $F^\\epsilon$ is convex on $\\mathbb{R}^N$ and stricly convex on $(\\mathbb{1}_N)^\\perp$. Its gradient reads:\n",
    "$$ \\frac{ \\partial F^\\epsilon}{\\partial \\psi_i} (\\psi) = \\mu - \\int_0^1 \\frac{ e^{\\frac{xy_i - \\psi_i}{\\epsilon}} }{ \\sum_{j=1}^N e^{\\frac{xy_j - \\psi_j}{\\epsilon}} } \\rho(x) dx.$$\n",
    "\n",
    "Both the cost function $F^\\epsilon$ and the gradient $\\nabla F^\\epsilon = (\\frac{ \\partial F^\\epsilon}{\\partial \\psi_i})_{i=1, \\dots, N}$ are computed using ```scipy.integrate.quad```.\n",
    "\n",
    "We solve $(2)$ using ```scipy.optimize.minimize``` with the BFGS method."
   ]
  },
  {
   "cell_type": "code",
   "execution_count": 3,
   "metadata": {},
   "outputs": [],
   "source": [
    "def hr(x, j, psi, eps, rho, b, Y_target):\n",
    "    r = (x*Y_target - psi)/eps\n",
    "    r -= np.max(r)\n",
    "    pi = np.exp(r)/np.sum(np.exp(r))\n",
    "    return (b - pi).flatten()[j]*rho(x)\n",
    "\n",
    "def fr(x, psi, eps, rho, b, Y_target):\n",
    "    r = x*Y_target - psi\n",
    "    max_r = np.max(r)\n",
    "    r -= max_r\n",
    "    return (max_r + eps*np.log(np.sum(np.exp(r/eps))))*rho(x)\n",
    "\n",
    "def get_cost_reg(psi, eps, rho, m, M, b, Y_target):\n",
    "    A = quad(fr, m, M, args=(psi, eps, rho, b, Y_target), limit=100)[0]\n",
    "    B = np.sum(b*psi)\n",
    "    return A + B + eps\n",
    "\n",
    "def gradient_reg(psi, eps, rho, m, M, b, Y_target):\n",
    "    grad = np.zeros(len(Y_target))\n",
    "    for j in range(len(Y_target)):\n",
    "        grad[j] = quad(hr, m, M, args=(j, psi, eps, rho, b, Y_target), limit=100)[0]\n",
    "    return grad\n",
    "\n",
    "def solve_ot_reg(psi_init, eps, rho, m, M, b, Y_target, disp=False):\n",
    "    res = minimize(get_cost_reg, psi_init, args=(eps, rho, m, M, b, Y_target), \\\n",
    "                   method='L-BFGS-B', jac=gradient_reg, options={'ftol': 1e-12, 'gtol': 1e-12})\n",
    "    if disp:\n",
    "        print(\"Final gradient:\", gradient_reg(res['x'], eps, rho, m, M, b, Y_target))\n",
    "        print(\"Cost:\", get_cost_reg(res['x'], eps, rho, m, M, b, Y_target))\n",
    "        \n",
    "    return res['x'] - (1/len(b))*np.sum(res['x'])"
   ]
  },
  {
   "cell_type": "markdown",
   "metadata": {},
   "source": [
    "# Computation of $\\dot{\\psi^\\epsilon}$"
   ]
  },
  {
   "cell_type": "markdown",
   "metadata": {},
   "source": [
    "Compute the *true* derivatives using the formula\n",
    "$$ \\dot{\\psi^\\epsilon} = - \\left( \\int_m^M M(\\pi^\\epsilon_x) \\rho(x) dx \\right)^{-1} \\left( \\int_m^M M(\\pi^\\epsilon_x) \\log \\pi^\\epsilon_x \\rho(x) dx \\right),$$\n",
    "where $M(\\pi^\\epsilon_x) = \\mathrm{diag}(\\pi^\\epsilon_x) - \\pi^\\epsilon_x (\\pi^\\epsilon_x)^\\top$."
   ]
  },
  {
   "cell_type": "code",
   "execution_count": 4,
   "metadata": {},
   "outputs": [],
   "source": [
    "def M_ij(x, i, j, psi, eps, rho, b, Y_target): \n",
    "    r = (x*Y_target - psi)/eps\n",
    "    r -= np.max(r)\n",
    "    pi = np.exp(r)/np.sum(np.exp(r))\n",
    "    if i==j:\n",
    "        return pi[i]*(1 - pi[i])*rho(x)\n",
    "    else:\n",
    "        return -pi[i]*pi[j]*rho(x)\n",
    "    \n",
    "def Mlog_i(x, i, psi, eps, rho, b, Y_target): \n",
    "    n_target = len(Y_target)\n",
    "    r = (x*Y_target - psi)/eps\n",
    "    r -= np.max(r)\n",
    "    pi = np.exp(r)/np.sum(np.exp(r))\n",
    "    M_i = np.zeros(n_target)\n",
    "    for j in range(n_target):\n",
    "        if j==i: M_i[j] = pi[i]*(1 - pi[i])\n",
    "        else: M_i[j] = -pi[i]*pi[j]\n",
    "    return np.sum(M_i*r)*rho(x)\n",
    "\n",
    "def Hessian_K_eps(psi, eps, rho, m, M, b, Y_target):\n",
    "    n_target = len(Y_target)\n",
    "    mat = np.zeros((n_target, n_target))\n",
    "    for i in range(n_target):\n",
    "        mat[i, i] = quad(M_ij, m, M, args=(i, i, psi, eps, rho, b, Y_target), limit=100,\\\n",
    "                         epsabs=1e-12, epsrel=1e-12)[0]\n",
    "        for j in range(i+1, n_target):\n",
    "            mat[i, j] = quad(M_ij, m, M, args=(i, j, psi, eps, rho, b, Y_target), limit=100,\\\n",
    "                             epsabs=1e-12, epsrel=1e-12)[0]\n",
    "            mat[j, i] = mat[i, j]\n",
    "    return (1/eps)*mat\n",
    "\n",
    "\n",
    "\n",
    "def der_epsilon_K_eps(psi, eps, rho, m, M, b, Y_target):\n",
    "    n_target = len(Y_target)\n",
    "    vect = np.zeros(n_target)\n",
    "    for i in range(n_target):\n",
    "        vect[i] = quad(Mlog_i, m, M, args=(i, psi, eps, rho, b, Y_target), limit=100,\\\n",
    "                       epsabs=1e-12, epsrel=1e-12)[0]\n",
    "    return (1/eps)*vect\n",
    "\n",
    "def get_dot_psi(psi, eps, rho, m, M, b, Y_target):\n",
    "    mat = Hessian_K_eps(psi, eps, rho, m, M, b, Y_target)\n",
    "    vect = der_epsilon_K_eps(psi, eps, rho, m, M, b, Y_target)\n",
    "    dot_psi = np.linalg.lstsq(mat, -vect)[0] \n",
    "    return dot_psi - (1/n_target)*np.sum(dot_psi)"
   ]
  },
  {
   "cell_type": "markdown",
   "metadata": {},
   "source": [
    "# $\\frac{1}{2}$-Hölder source\n",
    "\n",
    "* $\\rho$ is a $\\frac{1}{2}$-Hölder distribution\n",
    "* $\\mu = \\frac{1}{5} \\sum_{i=1}^{5} \\delta_{y_i}$ is a uniform discrete measure with support of size $5$ included in $[m, M]$. We denote $N=5$."
   ]
  },
  {
   "cell_type": "code",
   "execution_count": 5,
   "metadata": {},
   "outputs": [
    {
     "data": {
      "image/png": "[encoded data removed]",
      "text/plain": [
       "<Figure size 432x288 with 1 Axes>"
      ]
     },
     "metadata": {
      "needs_background": "light"
     },
     "output_type": "display_data"
    }
   ],
   "source": [
    "m, M = 0, 1\n",
    "\n",
    "integrand = lambda u: 1-np.abs(u)**(1/2)\n",
    "int_integrand = quad(integrand, -M, M)[0]\n",
    "\n",
    "def rho(x):    \n",
    "    return integrand(x)/int_integrand\n",
    "\n",
    "xx = np.linspace(m, M, 100)\n",
    "plt.plot(xx, rho(xx))\n",
    "plt.xlabel(\"$x$\")\n",
    "plt.ylabel(r\"$\\rho(x)$\")\n",
    "plt.show()"
   ]
  },
  {
   "cell_type": "code",
   "execution_count": 6,
   "metadata": {},
   "outputs": [
    {
     "name": "stdout",
     "output_type": "stream",
     "text": [
      "Y = [0.15601864 0.37454012 0.59865848 0.73199394 0.95071431]\n"
     ]
    },
    {
     "data": {
      "image/png": "[encoded data removed]",
      "text/plain": [
       "<Figure size 432x288 with 1 Axes>"
      ]
     },
     "metadata": {
      "needs_background": "light"
     },
     "output_type": "display_data"
    }
   ],
   "source": [
    "n_target = 5\n",
    "b = np.ones(n_target)/n_target\n",
    "rng = np.random.RandomState(42)\n",
    "Y_target = np.sort(rng.rand(n_target))\n",
    "Y_target = (M-m)*Y_target + m\n",
    "print(\"Y =\", Y_target)\n",
    "\n",
    "plt.scatter(Y_target, np.zeros(n_target), label=\"Y\")\n",
    "plt.plot(Y_target, np.zeros(n_target), c=\"k\", lw=0.5)\n",
    "plt.legend()\n",
    "plt.show()"
   ]
  },
  {
   "cell_type": "markdown",
   "metadata": {},
   "source": [
    "Solve unregularized OT:"
   ]
  },
  {
   "cell_type": "code",
   "execution_count": null,
   "metadata": {
    "scrolled": false
   },
   "outputs": [],
   "source": [
    "psi_init = np.zeros(len(b))\n",
    "psi_0 = solve_ot_unreg(psi_init, rho, m, M, b, Y_target)\n",
    "\n",
    "print(\"psi_0:\", psi_0)"
   ]
  },
  {
   "cell_type": "markdown",
   "metadata": {},
   "source": [
    "Test resolution of regularized OT with $\\epsilon$ small:"
   ]
  },
  {
   "cell_type": "code",
   "execution_count": null,
   "metadata": {},
   "outputs": [],
   "source": [
    "psi_init = np.zeros(len(b))\n",
    "eps = 1e-3\n",
    "\n",
    "psi_eps = solve_ot_reg(psi_init, eps, rho, m, M, b, Y_target)\n",
    "\n",
    "print(\"psi_eps:\", psi_eps)"
   ]
  },
  {
   "cell_type": "markdown",
   "metadata": {},
   "source": [
    "Observe the functions $x \\mapsto \\pi^\\epsilon_{i, x}$ for $i \\in \\{1, \\dots, N\\}$:"
   ]
  },
  {
   "cell_type": "code",
   "execution_count": null,
   "metadata": {},
   "outputs": [],
   "source": [
    "def pi_eps(x, i, psi, eps, b, Y_target):\n",
    "    r = (x*Y_target - psi)/eps\n",
    "    r -= np.max(r)\n",
    "    pi = np.exp(r)/np.sum(np.exp(r))\n",
    "    return pi[i]\n",
    "\n",
    "xx = np.linspace(m, M, 100)\n",
    "for i in range(n_target):\n",
    "    pi_i = np.array([pi_eps(x, i, psi_eps, eps, b, Y_target) for x in xx])\n",
    "    title = r\"$x \\mapsto \\pi^\\epsilon_{\" + str(i+1) + \", x}$\"\n",
    "    plt.plot(xx, pi_i, label=title)\n",
    "    \n",
    "plt.scatter(Y_target, np.zeros(n_target), label=\"Y\", lw=4, c=\"k\")\n",
    "plt.legend()\n",
    "plt.savefig('example-pi-eps-1e-3-1-2-holder.pdf', bbox_inches='tight')   \n",
    "plt.show()"
   ]
  },
  {
   "cell_type": "markdown",
   "metadata": {},
   "source": [
    "## Solve regularized OT for different values of $\\epsilon$ (with a \"scaling\" strategy):"
   ]
  },
  {
   "cell_type": "code",
   "execution_count": null,
   "metadata": {
    "scrolled": true
   },
   "outputs": [],
   "source": [
    "nb_eps = 30\n",
    "epsilons = np.logspace(-3.8, 2.0, nb_eps) #np.logspace(-3, 2.6, nb_eps) \n",
    "log_psi = np.zeros((n_target, nb_eps))\n",
    "\n",
    "for i in range(nb_eps):\n",
    "    eps = epsilons[nb_eps - 1 - i]\n",
    "    print(\"i = {} - epsilon = {}\".format(i, eps))\n",
    "    \n",
    "    # initialize potential\n",
    "    if i==0: psi_init = np.zeros(n_target)\n",
    "    else: psi_init = log_psi[:, nb_eps - i].copy()\n",
    "    \n",
    "    # compute potential \n",
    "    log_psi[:, nb_eps - 1 - i] = solve_ot_reg(psi_init, eps, rho, m, M, b, Y_target)"
   ]
  },
  {
   "cell_type": "markdown",
   "metadata": {},
   "source": [
    "### Observe behavior w.r.t. $\\epsilon$\n",
    "\n",
    "We can first observe the rate of convergence of $\\psi^\\epsilon$ to $\\psi^0$ as $\\epsilon$ goes to $0$."
   ]
  },
  {
   "cell_type": "code",
   "execution_count": null,
   "metadata": {},
   "outputs": [],
   "source": [
    "differences_psi = np.linalg.norm(log_psi - psi_0.reshape((-1, 1)), axis=0, ord=np.inf)\n",
    "\n",
    "comparison = np.array([5e0*eps**(1.5) for eps in epsilons])\n",
    "plt.loglog(epsilons, comparison, \"--\", label=r\"$\\epsilon^{1.5}$\")\n",
    "\n",
    "plt.loglog(epsilons, differences_psi, label=r\"$||\\psi^\\epsilon - \\psi^0||_\\infty$\")\n",
    "plt.xlabel(r\"$\\epsilon$\")\n",
    "plt.legend()\n",
    "plt.savefig('psi-eps-psi-0-1-2-holder.pdf', bbox_inches='tight')   \n",
    "plt.show()"
   ]
  },
  {
   "cell_type": "markdown",
   "metadata": {},
   "source": [
    "Observe Theorem 3.2:"
   ]
  },
  {
   "cell_type": "code",
   "execution_count": null,
   "metadata": {},
   "outputs": [],
   "source": [
    "v = np.random.rand(n_target)\n",
    "var_v = np.var(v)\n",
    "\n",
    "hessian_products = np.zeros(nb_eps)\n",
    "for i in range(nb_eps):\n",
    "    hessian_products[i] = v.dot(Hessian_K_eps(log_psi[:, i], epsilons[i], rho, m, M, b, Y_target).dot(v))\n",
    "    \n",
    "plt.loglog(epsilons, 4e0*hessian_products, label=r'$\\langle v, \\nabla^2 \\mathcal{K}^\\epsilon (\\psi^\\epsilon) v\\rangle$')\n",
    "plt.loglog(epsilons, var_v/(np.exp(1)+epsilons), label=r'$\\frac{1}{e^1 + \\epsilon} \\mathrm{Var}_\\mu(v)$')\n",
    "plt.legend()\n",
    "plt.savefig('strong-convexity-1-2-holder.pdf', bbox_inches='tight')  \n",
    "plt.show()"
   ]
  },
  {
   "cell_type": "markdown",
   "metadata": {},
   "source": [
    "Observe Theorem 3.3:"
   ]
  },
  {
   "cell_type": "code",
   "execution_count": null,
   "metadata": {},
   "outputs": [],
   "source": [
    "log_der_epsilon_K_eps = np.zeros((n_target, nb_eps))\n",
    "for i in range(nb_eps):\n",
    "    log_der_epsilon_K_eps[:, i] = der_epsilon_K_eps(log_psi[:, i], epsilons[i], rho, m, M, b, Y_target) \n",
    "    \n",
    "plt.loglog(epsilons[:11], 5e1*epsilons[:11]**(0.5), \"--\", label=r\"$\\epsilon^{0.5}$\")\n",
    "plt.loglog(epsilons[6:], 1e-2/epsilons[6:]**2, \"--\", label=r\"$1/\\epsilon^2$\")\n",
    "\n",
    "norm_der_epsilon_K_eps = np.linalg.norm(log_der_epsilon_K_eps, axis=0, ord=np.inf)\n",
    "plt.loglog(epsilons, norm_der_epsilon_K_eps, label=r\"$||\\frac{\\partial}{\\partial \\epsilon}(\\nabla \\mathcal{K}^\\epsilon)(\\psi^\\epsilon)||_\\infty$\")\n",
    "plt.xlabel(r\"$\\epsilon$\")\n",
    "plt.legend()\n",
    "plt.savefig('bound-second-term-ode-1-2-holder.pdf', bbox_inches='tight')  \n",
    "plt.show()"
   ]
  },
  {
   "cell_type": "markdown",
   "metadata": {},
   "source": [
    "Observe Theorem 2.1:"
   ]
  },
  {
   "cell_type": "code",
   "execution_count": null,
   "metadata": {},
   "outputs": [],
   "source": [
    "log_dot_psi = np.zeros((n_target, nb_eps))\n",
    "for i in range(nb_eps):\n",
    "    log_dot_psi[:, i] = get_dot_psi(log_psi[:, i], epsilons[i], rho, m, M, b, Y_target)\n",
    "\n",
    "plt.loglog(epsilons[:12], 1e1*epsilons[:12]**(0.5), \"--\", label=r\"$\\epsilon^{0.5}$\")\n",
    "plt.loglog(epsilons[6:], 3e-2/epsilons[6:], \"--\", label=r\"$1/\\epsilon$\")\n",
    "\n",
    "norm_derivatives_psi = np.linalg.norm(log_dot_psi, axis=0, ord=np.inf)\n",
    "plt.loglog(epsilons, norm_derivatives_psi, label=r\"$||\\dot{\\psi^{\\epsilon}}||_\\infty$\")\n",
    "plt.xlabel(r\"$\\epsilon$\")\n",
    "plt.legend()\n",
    "plt.savefig('dot-psi-1-2-holder.pdf', bbox_inches='tight')  \n",
    "plt.show()"
   ]
  },
  {
   "cell_type": "markdown",
   "metadata": {},
   "source": [
    "Observe exponential convergence of $\\epsilon \\mapsto \\pi^\\epsilon_{x,i}$ for all $i \\in \\{1, \\dots, N\\}$ and $\\rho$-almost-every $x \\in \\mathcal{X}$."
   ]
  },
  {
   "cell_type": "code",
   "execution_count": null,
   "metadata": {},
   "outputs": [],
   "source": [
    "x = (M-m)*rng.rand() + m\n",
    "\n",
    "print(\"x = {}\".format(x))\n",
    "log_pi_x = np.zeros((n_target, nb_eps))\n",
    "\n",
    "for e in range(nb_eps):\n",
    "    for i in range(n_target):\n",
    "        log_pi_x[i, e] = pi_eps(x, i, log_psi[:, e], epsilons[e], b, Y_target)\n",
    "        \n",
    "\n",
    "plt.figure(figsize=(14, 7))\n",
    "           \n",
    "for i in range(n_target):\n",
    "    plt.subplot(2, 3, i+1)\n",
    "    plt.loglog(epsilons, log_pi_x[i])\n",
    "    plt.title(r\"$\\epsilon \\mapsto \\pi^\\epsilon_{\" + str(i+1) + \", x} - x = $\" + str(round(x, 3)))\n",
    "    plt.xlabel(r\"$\\epsilon$\")\n",
    "    plt.ylabel(r\"$\\pi^\\epsilon_x$\")\n",
    "\n",
    "plt.subplot(2, 3, 6)\n",
    "xx = np.linspace(m, M, 100)\n",
    "for i in range(n_target):\n",
    "    pi_i = np.array([pi_eps(x, i, log_psi[:, 0], epsilons[0], b, Y_target) for x in xx])\n",
    "    title = r\"$x \\mapsto \\pi^\\epsilon_{\" + str(i+1) + \", x}$\" \n",
    "    plt.plot(xx, pi_i, label=title)\n",
    "    \n",
    "plt.title(r\"$\\epsilon = $\" + str(epsilons[0]))\n",
    "\n",
    "plt.tight_layout()\n",
    "plt.legend()\n",
    "plt.savefig('pi-eps-x-vs-eps-0-1-2-holder.pdf', bbox_inches='tight')  \n",
    "plt.show()"
   ]
  },
  {
   "cell_type": "code",
   "execution_count": null,
   "metadata": {},
   "outputs": [],
   "source": []
  }
 ],
 "metadata": {
  "kernelspec": {
   "display_name": "Python 3",
   "language": "python",
   "name": "python3"
  },
  "language_info": {
   "codemirror_mode": {
    "name": "ipython",
    "version": 3
   },
   "file_extension": ".py",
   "mimetype": "text/x-python",
   "name": "python",
   "nbconvert_exporter": "python",
   "pygments_lexer": "ipython3",
   "version": "3.7.4"
  }
 },
 "nbformat": 4,
 "nbformat_minor": 2
}
